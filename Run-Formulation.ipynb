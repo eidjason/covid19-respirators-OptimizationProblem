{
 "cells": [
  {
   "cell_type": "markdown",
   "metadata": {},
   "source": [
    "## Install python-docx to save output to word file"
   ]
  },
  {
   "cell_type": "code",
   "execution_count": 1,
   "metadata": {},
   "outputs": [],
   "source": [
    "#pip install python-docx"
   ]
  },
  {
   "cell_type": "markdown",
   "metadata": {},
   "source": [
    "## Import docx and run the formulateProblem to load the functions"
   ]
  },
  {
   "cell_type": "code",
   "execution_count": 1,
   "metadata": {},
   "outputs": [],
   "source": [
    "import docx\n",
    "%run formulateProblem.ipynb"
   ]
  },
  {
   "cell_type": "markdown",
   "metadata": {},
   "source": [
    "## Data"
   ]
  },
  {
   "cell_type": "code",
   "execution_count": 2,
   "metadata": {},
   "outputs": [],
   "source": [
    "# ID refers to the hospital\n",
    "# Rh refers to the number of respirators currently present\n",
    "# Dh refers to the number of needed respirators in the future\n",
    "# Xh is the X-coordinate of the hospital\n",
    "# Yh is the Y-coordinate of hospital\n",
    "\n",
    "# You can input as much hospital objects as you want to.\n",
    "# The program will take into consideration demand and supply whether they are equal or not.\n",
    "hospitals = [\n",
    "    {\n",
    "        \"ID\": 1, \"Rh\": 30, \"Dh\": 35, \"Xh\": 36, \"Yh\": 20\n",
    "    },\n",
    "    \n",
    "    {\n",
    "        \"ID\": 2, \"Rh\": 10, \"Dh\": 15, \"Xh\": 23, \"Yh\": 30\n",
    "    },\n",
    "    \n",
    "    {\n",
    "        \"ID\": 3, \"Rh\": 15, \"Dh\": 10, \"Xh\": 23, \"Yh\": 56\n",
    "    },\n",
    "    \n",
    "    {\n",
    "        \"ID\": 4, \"Rh\": 15, \"Dh\": 20, \"Xh\": 10, \"Yh\": 15\n",
    "    },\n",
    "    \n",
    "    {\n",
    "        \"ID\": 5, \"Rh\": 20, \"Dh\": 10, \"Xh\": 5, \"Yh\": 5\n",
    "    },\n",
    "]"
   ]
  },
  {
   "cell_type": "markdown",
   "metadata": {},
   "source": [
    "## Run this to see the ouput of the formulation"
   ]
  },
  {
   "cell_type": "code",
   "execution_count": 5,
   "metadata": {},
   "outputs": [],
   "source": [
    "#Run_Program(hospitals)"
   ]
  },
  {
   "cell_type": "markdown",
   "metadata": {},
   "source": [
    "## Call Run_Program() function with the data as argument and capture the output"
   ]
  },
  {
   "cell_type": "code",
   "execution_count": 6,
   "metadata": {},
   "outputs": [],
   "source": [
    "%%capture cap --no-stderr \n",
    "Run_Program(hospitals)"
   ]
  },
  {
   "cell_type": "markdown",
   "metadata": {},
   "source": [
    "## Save the output to a word file"
   ]
  },
  {
   "cell_type": "code",
   "execution_count": 7,
   "metadata": {},
   "outputs": [],
   "source": [
    "# Save formulation to a word file\n",
    "# Make sure the file is not open if you run the code more than once\n",
    "document = docx.Document()\n",
    "document.add_paragraph(cap.stdout)\n",
    "document.save('Problem Formulation.docx')"
   ]
  }
 ],
 "metadata": {
  "kernelspec": {
   "display_name": "Python 3",
   "language": "python",
   "name": "python3"
  },
  "language_info": {
   "codemirror_mode": {
    "name": "ipython",
    "version": 3
   },
   "file_extension": ".py",
   "mimetype": "text/x-python",
   "name": "python",
   "nbconvert_exporter": "python",
   "pygments_lexer": "ipython3",
   "version": "3.7.3"
  }
 },
 "nbformat": 4,
 "nbformat_minor": 2
}
